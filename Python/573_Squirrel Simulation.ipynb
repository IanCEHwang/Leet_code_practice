{
 "cells": [
  {
   "cell_type": "code",
   "execution_count": 4,
   "id": "8e1ee786",
   "metadata": {},
   "outputs": [],
   "source": [
    "class Solution:\n",
    "    def minDistance(self, height , width, tree, squirrel, nuts) -> int:\n",
    "        \n",
    "        def distance(nut , tree):\n",
    "            return abs(nut[0] - tree[0]) + abs(nut[1] - tree[1])\n",
    "        \n",
    "        total_distance = sum(distance(nut , tree) for nut in nuts)\n",
    "        \n",
    "        return min(distance(nut, squirrel) + total_distance - distance(nut , tree) for nut in nuts)"
   ]
  },
  {
   "cell_type": "code",
   "execution_count": null,
   "id": "81089bff",
   "metadata": {},
   "outputs": [],
   "source": []
  }
 ],
 "metadata": {
  "kernelspec": {
   "display_name": "Python 3 (ipykernel)",
   "language": "python",
   "name": "python3"
  },
  "language_info": {
   "codemirror_mode": {
    "name": "ipython",
    "version": 3
   },
   "file_extension": ".py",
   "mimetype": "text/x-python",
   "name": "python",
   "nbconvert_exporter": "python",
   "pygments_lexer": "ipython3",
   "version": "3.9.6"
  }
 },
 "nbformat": 4,
 "nbformat_minor": 5
}
