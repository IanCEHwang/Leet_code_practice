{
 "cells": [
  {
   "cell_type": "code",
   "execution_count": 19,
   "id": "91a81477",
   "metadata": {},
   "outputs": [],
   "source": [
    "class Solution(object):\n",
    "    def maxArea(self, height):\n",
    "        current_high_container = 0\n",
    "        list_len = len(height)\n",
    "        for range_between_landr in range(1 , list_len): ###go through different lens\n",
    "            local_height_max = 0\n",
    "            for left in range(0 , list_len-range_between_landr): ### start loop from left\n",
    "                current_height_max = min(height[left] , height[left+range_between_landr])\n",
    "                if current_height_max > local_height_max:\n",
    "                    local_height_max = current_height_max\n",
    "            current_container = local_height_max * range_between_landr\n",
    "            if  current_container > current_high_container:\n",
    "                current_high_container = current_container\n",
    "        return current_high_container"
   ]
  },
  {
   "cell_type": "code",
   "execution_count": null,
   "id": "bfa916bf",
   "metadata": {},
   "outputs": [],
   "source": [
    "class Solution(object):\n",
    "    def maxArea(self, height):\n",
    "        \n"
   ]
  },
  {
   "cell_type": "code",
   "execution_count": 20,
   "id": "dd693ff7",
   "metadata": {},
   "outputs": [
    {
     "data": {
      "text/plain": [
       "1"
      ]
     },
     "execution_count": 20,
     "metadata": {},
     "output_type": "execute_result"
    }
   ],
   "source": [
    "sol = Solution\n",
    "sol.maxArea(sol , [1,1])"
   ]
  }
 ],
 "metadata": {
  "kernelspec": {
   "display_name": "Python 3 (ipykernel)",
   "language": "python",
   "name": "python3"
  },
  "language_info": {
   "codemirror_mode": {
    "name": "ipython",
    "version": 3
   },
   "file_extension": ".py",
   "mimetype": "text/x-python",
   "name": "python",
   "nbconvert_exporter": "python",
   "pygments_lexer": "ipython3",
   "version": "3.9.7"
  }
 },
 "nbformat": 4,
 "nbformat_minor": 5
}
