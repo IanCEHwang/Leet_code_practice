{
 "cells": [
  {
   "cell_type": "markdown",
   "id": "da84d47f",
   "metadata": {},
   "source": [
    "### Solution 1 (Slow)"
   ]
  },
  {
   "cell_type": "code",
   "execution_count": 62,
   "id": "4c074738",
   "metadata": {},
   "outputs": [],
   "source": [
    "class Solution:\n",
    "    def killProcess(self, pid, ppid, kill):\n",
    "        \n",
    "        killed_list = []      \n",
    "\n",
    "        for i in range(0 , len(pid)):\n",
    "            new_to_kill = []\n",
    "\n",
    "            if i == 0:\n",
    "                to_kill_list = [kill]\n",
    "                killed_list.append(kill)\n",
    "                continue\n",
    "            else:\n",
    "                for to_kill in to_kill_list:\n",
    "                    try:\n",
    "                        killed_index = [index for index , value in enumerate(ppid) if value == to_kill]\n",
    "                        if len(killed_index) == 0:\n",
    "                            continue\n",
    "                    except:\n",
    "                        break\n",
    "                    \n",
    "                    if len(killed_index) > 1:\n",
    "                        for to_pop in sorted(killed_index, reverse = True):\n",
    "                            new_to_kill.append(pid[to_pop])\n",
    "                            del pid[to_pop]\n",
    "                            del ppid[to_pop]\n",
    "\n",
    "                    else:\n",
    "                        new_to_kill.append(pid.pop(killed_index[0]))\n",
    "                        ppid.pop(killed_index[0])\n",
    "                    \n",
    "                killed_list += new_to_kill\n",
    "                to_kill_list = new_to_kill\n",
    "                \n",
    "                \n",
    "        return killed_list"
   ]
  },
  {
   "cell_type": "markdown",
   "id": "fd99e85e",
   "metadata": {},
   "source": [
    "### Solution 2 (Fast)"
   ]
  },
  {
   "cell_type": "code",
   "execution_count": 96,
   "id": "96a5f934",
   "metadata": {},
   "outputs": [],
   "source": [
    "class Solution:\n",
    "    def killProcess(self, pid, ppid, kill):\n",
    "        mapping = collections.defaultdict(list)\n",
    "        for n in range(len(pid)):\n",
    "            mapping[ppid[n]].append(pid[n])\n",
    "            \n",
    "        kill_queue = collections.deque() #initiate killing queue\n",
    "        kill_queue.append(kill) #put first element to kill into queue\n",
    "        killed = []\n",
    "        \n",
    "        while kill_queue: # if queue not empty\n",
    "            to_kill = kill_queue.popleft() # pop first element\n",
    "            killed.append(to_kill) # record kills\n",
    "            if to_kill in mapping:\n",
    "                kill_queue.extend(mapping[to_kill]) # add element ro kill into queue\n",
    "        \n",
    "        return killed\n",
    "        \n",
    "        "
   ]
  },
  {
   "cell_type": "markdown",
   "id": "f9d4a8ac",
   "metadata": {},
   "source": [
    ">Testing"
   ]
  },
  {
   "cell_type": "code",
   "execution_count": 85,
   "id": "b3930c4d",
   "metadata": {},
   "outputs": [],
   "source": [
    "pid = [8,6,7,9,2,4]\n",
    "ppid = [9,7,0,6,7,6]"
   ]
  },
  {
   "cell_type": "code",
   "execution_count": 97,
   "id": "9187df7e",
   "metadata": {},
   "outputs": [
    {
     "data": {
      "text/plain": [
       "[7, 6, 2, 9, 4, 8]"
      ]
     },
     "execution_count": 97,
     "metadata": {},
     "output_type": "execute_result"
    }
   ],
   "source": [
    "temp = Solution()\n",
    "Solution.killProcess(temp , pid , ppid , 7)"
   ]
  }
 ],
 "metadata": {
  "kernelspec": {
   "display_name": "Python 3 (ipykernel)",
   "language": "python",
   "name": "python3"
  },
  "language_info": {
   "codemirror_mode": {
    "name": "ipython",
    "version": 3
   },
   "file_extension": ".py",
   "mimetype": "text/x-python",
   "name": "python",
   "nbconvert_exporter": "python",
   "pygments_lexer": "ipython3",
   "version": "3.9.6"
  }
 },
 "nbformat": 4,
 "nbformat_minor": 5
}
