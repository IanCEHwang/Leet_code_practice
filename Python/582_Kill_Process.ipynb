{
 "cells": [
  {
   "cell_type": "code",
   "execution_count": 62,
   "id": "093069f5",
   "metadata": {},
   "outputs": [],
   "source": [
    "class Solution:\n",
    "    def killProcess(self, pid, ppid, kill):\n",
    "        \n",
    "        killed_list = []      \n",
    "\n",
    "        for i in range(0 , len(pid)):\n",
    "            new_to_kill = []\n",
    "\n",
    "            if i == 0:\n",
    "                to_kill_list = [kill]\n",
    "                killed_list.append(kill)\n",
    "                continue\n",
    "            else:\n",
    "                for to_kill in to_kill_list:\n",
    "                    try:\n",
    "                        killed_index = [index for index , value in enumerate(ppid) if value == to_kill]\n",
    "                        if len(killed_index) == 0:\n",
    "                            continue\n",
    "                    except:\n",
    "                        break\n",
    "                    \n",
    "                    if len(killed_index) > 1:\n",
    "                        for to_pop in sorted(killed_index, reverse = True):\n",
    "                            new_to_kill.append(pid[to_pop])\n",
    "                            del pid[to_pop]\n",
    "                            del ppid[to_pop]\n",
    "\n",
    "                    else:\n",
    "                        new_to_kill.append(pid.pop(killed_index[0]))\n",
    "                        ppid.pop(killed_index[0])\n",
    "                    \n",
    "                killed_list += new_to_kill\n",
    "                to_kill_list = new_to_kill\n",
    "                \n",
    "                \n",
    "        return killed_list"
   ]
  },
  {
   "cell_type": "code",
   "execution_count": 80,
   "id": "c8f53de3",
   "metadata": {},
   "outputs": [],
   "source": [
    "pid = [8,6,7,9,2,4]\n",
    "ppid = [9,7,0,6,7,6]"
   ]
  },
  {
   "cell_type": "code",
   "execution_count": 64,
   "id": "b6c2cd03",
   "metadata": {},
   "outputs": [
    {
     "data": {
      "text/plain": [
       "[7, 2, 6, 4, 9, 8]"
      ]
     },
     "execution_count": 64,
     "metadata": {},
     "output_type": "execute_result"
    }
   ],
   "source": [
    "temp = Solution()\n",
    "Solution.killProcess(temp , pid , ppid , 7)"
   ]
  },
  {
   "cell_type": "markdown",
   "id": "ffbd9487",
   "metadata": {},
   "source": [
    "### Fastest Solution"
   ]
  },
  {
   "cell_type": "code",
   "execution_count": 76,
   "id": "6733fce4",
   "metadata": {},
   "outputs": [],
   "source": [
    "import collections"
   ]
  },
  {
   "cell_type": "code",
   "execution_count": 79,
   "id": "d87408c2",
   "metadata": {},
   "outputs": [],
   "source": [
    "class Solution:\n",
    "    def killProcess(self, pid, ppid, kill):\n",
    "        mapping = collections.defaultdict(list)\n",
    "        for i in range(len(ppid)):\n",
    "            mapping[ppid[i]].append(pid[i])\n",
    "\n",
    "        queue = collections.deque()\n",
    "        queue.append(kill)\n",
    "        result = []\n",
    "        \n",
    "        while queue:\n",
    "            killed = queue.popleft()\n",
    "            print(\"killed :\" , killed)\n",
    "            result.append(killed)\n",
    "            if killed in mapping:\n",
    "                print(\"extend : \" , mapping[killed])\n",
    "                queue.extend(mapping[killed])\n",
    "\n",
    "        return result"
   ]
  },
  {
   "cell_type": "code",
   "execution_count": 82,
   "id": "c3d8bc29",
   "metadata": {},
   "outputs": [
    {
     "name": "stdout",
     "output_type": "stream",
     "text": [
      "killed : 7\n",
      "extend :  [6, 2]\n",
      "killed : 6\n",
      "extend :  [9, 4]\n",
      "killed : 2\n",
      "killed : 9\n",
      "extend :  [8]\n",
      "killed : 4\n",
      "killed : 8\n"
     ]
    },
    {
     "data": {
      "text/plain": [
       "[7, 6, 2, 9, 4, 8]"
      ]
     },
     "execution_count": 82,
     "metadata": {},
     "output_type": "execute_result"
    }
   ],
   "source": [
    "temp = Solution()\n",
    "Solution.killProcess(temp , pid , ppid , 7)"
   ]
  }
 ],
 "metadata": {
  "kernelspec": {
   "display_name": "Python 3 (ipykernel)",
   "language": "python",
   "name": "python3"
  },
  "language_info": {
   "codemirror_mode": {
    "name": "ipython",
    "version": 3
   },
   "file_extension": ".py",
   "mimetype": "text/x-python",
   "name": "python",
   "nbconvert_exporter": "python",
   "pygments_lexer": "ipython3",
   "version": "3.9.6"
  }
 },
 "nbformat": 4,
 "nbformat_minor": 5
}
