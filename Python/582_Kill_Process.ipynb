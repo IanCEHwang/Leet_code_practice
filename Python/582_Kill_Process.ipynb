{
 "cells": [
  {
   "cell_type": "code",
   "execution_count": 62,
   "id": "78582279",
   "metadata": {},
   "outputs": [],
   "source": [
    "class Solution:\n",
    "    def killProcess(self, pid, ppid, kill):\n",
    "        \n",
    "        killed_list = []      \n",
    "\n",
    "        for i in range(0 , len(pid)):\n",
    "            new_to_kill = []\n",
    "\n",
    "            if i == 0:\n",
    "                to_kill_list = [kill]\n",
    "                killed_list.append(kill)\n",
    "                continue\n",
    "            else:\n",
    "                for to_kill in to_kill_list:\n",
    "                    try:\n",
    "                        killed_index = [index for index , value in enumerate(ppid) if value == to_kill]\n",
    "                        if len(killed_index) == 0:\n",
    "                            continue\n",
    "                    except:\n",
    "                        break\n",
    "                    \n",
    "                    if len(killed_index) > 1:\n",
    "                        for to_pop in sorted(killed_index, reverse = True):\n",
    "                            new_to_kill.append(pid[to_pop])\n",
    "                            del pid[to_pop]\n",
    "                            del ppid[to_pop]\n",
    "\n",
    "                    else:\n",
    "                        new_to_kill.append(pid.pop(killed_index[0]))\n",
    "                        ppid.pop(killed_index[0])\n",
    "                    \n",
    "                killed_list += new_to_kill\n",
    "                to_kill_list = new_to_kill\n",
    "                \n",
    "                \n",
    "        return killed_list"
   ]
  },
  {
   "cell_type": "code",
   "execution_count": 96,
   "id": "6fdcbcba",
   "metadata": {},
   "outputs": [],
   "source": [
    "class Solution:\n",
    "    def killProcess(self, pid, ppid, kill):\n",
    "        mapping = collections.defaultdict(list)\n",
    "        for n in range(len(pid)):\n",
    "            mapping[ppid[n]].append(pid[n])\n",
    "            \n",
    "        kill_queue = collections.deque() #initiate killing queue\n",
    "        kill_queue.append(kill) #put first element to kill into queue\n",
    "        killed = []\n",
    "        \n",
    "        while kill_queue: # if queue not empty\n",
    "            to_kill = kill_queue.popleft() # pop first element\n",
    "            killed.append(to_kill) # record kills\n",
    "            if to_kill in mapping:\n",
    "                kill_queue.extend(mapping[to_kill]) # add element ro kill into queue\n",
    "        \n",
    "        return killed\n",
    "        \n",
    "        "
   ]
  },
  {
   "cell_type": "code",
   "execution_count": null,
   "id": "b9c001fb",
   "metadata": {},
   "outputs": [],
   "source": []
  },
  {
   "cell_type": "code",
   "execution_count": 97,
   "id": "38dec82a",
   "metadata": {},
   "outputs": [
    {
     "data": {
      "text/plain": [
       "[7, 6, 2, 9, 4, 8]"
      ]
     },
     "execution_count": 97,
     "metadata": {},
     "output_type": "execute_result"
    }
   ],
   "source": [
    "temp = Solution()\n",
    "Solution.killProcess(temp , pid , ppid , 7)"
   ]
  },
  {
   "cell_type": "code",
   "execution_count": null,
   "id": "9441ce08",
   "metadata": {},
   "outputs": [],
   "source": []
  },
  {
   "cell_type": "code",
   "execution_count": 64,
   "id": "1b0d3c50",
   "metadata": {},
   "outputs": [
    {
     "data": {
      "text/plain": [
       "[7, 2, 6, 4, 9, 8]"
      ]
     },
     "execution_count": 64,
     "metadata": {},
     "output_type": "execute_result"
    }
   ],
   "source": [
    "temp = Solution()\n",
    "Solution.killProcess(temp , pid , ppid , kill)"
   ]
  },
  {
   "cell_type": "markdown",
   "id": "5ee5d744",
   "metadata": {},
   "source": [
    "### Fastest Solution"
   ]
  },
  {
   "cell_type": "code",
   "execution_count": 76,
   "id": "b9ec712f",
   "metadata": {},
   "outputs": [],
   "source": [
    "import collections"
   ]
  },
  {
   "cell_type": "code",
   "execution_count": 79,
   "id": "ae73507e",
   "metadata": {},
   "outputs": [],
   "source": [
    "class Solution:\n",
    "    def killProcess(self, pid, ppid, kill):\n",
    "        mapping = collections.defaultdict(list)\n",
    "        for i in range(len(ppid)):\n",
    "            mapping[ppid[i]].append(pid[i])\n",
    "\n",
    "        queue = collections.deque()\n",
    "        queue.append(kill)\n",
    "        result = []\n",
    "        \n",
    "        while queue:\n",
    "            killed = queue.popleft()\n",
    "            print(\"killed :\" , killed)\n",
    "            result.append(killed)\n",
    "            if killed in mapping:\n",
    "                print(\"extend : \" , mapping[killed])\n",
    "                queue.extend(mapping[killed])\n",
    "\n",
    "        return result"
   ]
  },
  {
   "cell_type": "code",
   "execution_count": 82,
   "id": "b802add5",
   "metadata": {},
   "outputs": [
    {
     "name": "stdout",
     "output_type": "stream",
     "text": [
      "killed : 7\n",
      "extend :  [6, 2]\n",
      "killed : 6\n",
      "extend :  [9, 4]\n",
      "killed : 2\n",
      "killed : 9\n",
      "extend :  [8]\n",
      "killed : 4\n",
      "killed : 8\n"
     ]
    },
    {
     "data": {
      "text/plain": [
       "[7, 6, 2, 9, 4, 8]"
      ]
     },
     "execution_count": 82,
     "metadata": {},
     "output_type": "execute_result"
    }
   ],
   "source": [
    "temp = Solution()\n",
    "Solution.killProcess(temp , pid , ppid , 7)"
   ]
  }
 ],
 "metadata": {
  "kernelspec": {
   "display_name": "Python 3 (ipykernel)",
   "language": "python",
   "name": "python3"
  },
  "language_info": {
   "codemirror_mode": {
    "name": "ipython",
    "version": 3
   },
   "file_extension": ".py",
   "mimetype": "text/x-python",
   "name": "python",
   "nbconvert_exporter": "python",
   "pygments_lexer": "ipython3",
   "version": "3.9.6"
  }
 },
 "nbformat": 4,
 "nbformat_minor": 5
}
