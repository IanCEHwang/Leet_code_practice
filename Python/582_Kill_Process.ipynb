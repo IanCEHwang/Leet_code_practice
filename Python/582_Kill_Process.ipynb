{
 "cells": [
  {
   "cell_type": "code",
   "execution_count": 56,
   "id": "528ec6d5",
   "metadata": {},
   "outputs": [],
   "source": [
    "class Solution:\n",
    "    def killProcess(self, pid, ppid, kill):\n",
    "        \n",
    "        killed_list = []      \n",
    "\n",
    "        for i in range(0 , len(pid)):\n",
    "            new_to_kill = []\n",
    "\n",
    "            if i == 0:\n",
    "                to_kill_list = [kill]\n",
    "                killed_list.append(kill)\n",
    "                continue\n",
    "            else:\n",
    "                print(to_kill_list)\n",
    "                for to_kill in to_kill_list:\n",
    "                    try:\n",
    "                        killed_index = [index for index , value in enumerate(ppid) if value == to_kill]\n",
    "                        if len(killed_index) == 0:\n",
    "                            continue\n",
    "                    except:\n",
    "                        break\n",
    "                    \n",
    "                    if len(killed_index) > 1:\n",
    "                        for to_pop in sorted(killed_index, reverse = True):\n",
    "                            new_to_kill.append(pid[to_pop])\n",
    "                            del pid[to_pop]\n",
    "                            del ppid[to_pop]\n",
    "\n",
    "                    else:\n",
    "                        new_to_kill.append(pid.pop(killed_index[0]))\n",
    "                        ppid.pop(killed_index[0])\n",
    "                    \n",
    "                killed_list += new_to_kill\n",
    "                to_kill_list = new_to_kill\n",
    "                \n",
    "                \n",
    "        return killed_list"
   ]
  },
  {
   "cell_type": "code",
   "execution_count": 57,
   "id": "9468b3d3",
   "metadata": {},
   "outputs": [],
   "source": [
    "pid = [8,6,7,9,2,4]\n",
    "ppid = [9,7,0,6,7,6]"
   ]
  },
  {
   "cell_type": "code",
   "execution_count": 58,
   "id": "bb134210",
   "metadata": {},
   "outputs": [
    {
     "name": "stdout",
     "output_type": "stream",
     "text": [
      "[7]\n",
      "7\n",
      "index to kill:  [1, 4]\n",
      "[2, 6]\n",
      "2\n",
      "[]\n",
      "[]\n",
      "[]\n"
     ]
    },
    {
     "data": {
      "text/plain": [
       "[7, 2, 6]"
      ]
     },
     "execution_count": 58,
     "metadata": {},
     "output_type": "execute_result"
    }
   ],
   "source": [
    "temp = Solution()\n",
    "Solution.killProcess(temp , pid , ppid , 7)"
   ]
  }
 ],
 "metadata": {
  "kernelspec": {
   "display_name": "Python 3 (ipykernel)",
   "language": "python",
   "name": "python3"
  },
  "language_info": {
   "codemirror_mode": {
    "name": "ipython",
    "version": 3
   },
   "file_extension": ".py",
   "mimetype": "text/x-python",
   "name": "python",
   "nbconvert_exporter": "python",
   "pygments_lexer": "ipython3",
   "version": "3.9.6"
  }
 },
 "nbformat": 4,
 "nbformat_minor": 5
}
