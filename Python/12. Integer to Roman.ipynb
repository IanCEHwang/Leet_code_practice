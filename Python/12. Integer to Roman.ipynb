{
 "cells": [
  {
   "cell_type": "code",
   "execution_count": 51,
   "id": "2619ad56",
   "metadata": {},
   "outputs": [],
   "source": [
    "class Solution(object):\n",
    "    def intToRoman(self, num):\n",
    "        str_num = str(num)\n",
    "        num_len = len(str_num)\n",
    "        return_string = ''\n",
    "        for n in range(0 , num_len):\n",
    "            if n == 0:  ### 十位數 handle\n",
    "                temp_string = \"\"\n",
    "                if str_num[n] == '4' or str_num[n] == '9':\n",
    "                    if str_num[n] == '4':\n",
    "                        temp_string = temp_string + \"IV\"\n",
    "                    elif str_num[n] == '9':\n",
    "                        temp_string = temp_string + \"IX\"\n",
    "                elif int(str_num[n]) < 4:\n",
    "                    temp_string = temp_string + \"I\" * int(str_num[n])\n",
    "                else:\n",
    "                    temp_string = temp_string + \"V\" + (int(str_num[n])-5)*\"I\"\n",
    "            return_string = temp_string + return_string\n",
    "            \n",
    "        return return_string"
   ]
  },
  {
   "cell_type": "code",
   "execution_count": 55,
   "id": "3ac1c9e5",
   "metadata": {},
   "outputs": [
    {
     "data": {
      "text/plain": [
       "''"
      ]
     },
     "execution_count": 55,
     "metadata": {},
     "output_type": "execute_result"
    }
   ],
   "source": [
    "sol = Solution()\n",
    "sol.intToRoman(0)"
   ]
  }
 ],
 "metadata": {
  "kernelspec": {
   "display_name": "Python 3 (ipykernel)",
   "language": "python",
   "name": "python3"
  },
  "language_info": {
   "codemirror_mode": {
    "name": "ipython",
    "version": 3
   },
   "file_extension": ".py",
   "mimetype": "text/x-python",
   "name": "python",
   "nbconvert_exporter": "python",
   "pygments_lexer": "ipython3",
   "version": "3.9.7"
  }
 },
 "nbformat": 4,
 "nbformat_minor": 5
}
