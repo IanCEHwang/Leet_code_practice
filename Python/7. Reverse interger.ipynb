{
 "cells": [
  {
   "cell_type": "code",
   "execution_count": 69,
   "id": "4848841d",
   "metadata": {},
   "outputs": [],
   "source": [
    "class Solution(object):\n",
    "    def reverse(self, x):\n",
    "        if list(set(x))[0] == '0':\n",
    "            return 0\n",
    "        \n",
    "        max_int = '2147483647'\n",
    "        max_int_len = len(max_int)\n",
    "        \n",
    "        def identify_over_int(y):\n",
    "            len_y = len(y)\n",
    "            return_y = ''\n",
    "            #clear 0 first\n",
    "            if_start_0 = True\n",
    "            for counter in range(1 , len_y + 1):\n",
    "                if y[-counter] == '0' and if_start_0 == True:\n",
    "                    continue\n",
    "                elif y[-counter] != '0':\n",
    "                    if_start_0 = False\n",
    "                    return_y = return_y + y[-counter]\n",
    "                elif y[-counter] == '0' and if_start_0 == False:\n",
    "                    return_y = return_y + y[-counter]    \n",
    "            return return_y\n",
    "        \n",
    "        if x[0] == '-': #if x negative\n",
    "            neg_x = identify_over_int(x[1:])\n",
    "            if len(x) - 1 > max_int_len: #greater than int max\n",
    "                return 0\n",
    "            elif len(x) - 1 == max_int_len: #same length as max int\n",
    "                if_stop = False\n",
    "                counter = 0\n",
    "                while if_stop != True:\n",
    "                    if neg_x[counter] < max_int[counter]:\n",
    "                        return '-' + neg_x\n",
    "                    elif neg_x[counter] == max_int[counter]:\n",
    "                        counter = counter + 1\n",
    "                    else:\n",
    "                        return 0\n",
    "                if counter == len(neg_x) - 1: #if x == min int\n",
    "                    return '-' + neg_x\n",
    "            else:\n",
    "                return '-' + neg_x\n",
    "        else: #if x positive\n",
    "            pos_x = identify_over_int(x)\n",
    "            if len(pos_x) > max_int_len: #greater than int max\n",
    "                return 0\n",
    "            elif len(pos_x) == max_int_len: #same length as max int\n",
    "                counter = 0\n",
    "                if_stop = False\n",
    "                while if_stop != True and counter < len(pos_x):\n",
    "                    if pos_x[counter] < max_int[counter]:\n",
    "                        return pos_x\n",
    "                    elif pos_x[counter] == max_int[counter]: #if same length as max int\n",
    "                        counter = counter + 1\n",
    "                        continue\n",
    "                    else:\n",
    "                        return 0\n",
    "                if counter == len(pos_x) - 1: #if x == max int\n",
    "                    return pos_x\n",
    "            else:\n",
    "                return pos_x"
   ]
  },
  {
   "cell_type": "code",
   "execution_count": 70,
   "id": "b2767d8b",
   "metadata": {},
   "outputs": [
    {
     "data": {
      "text/plain": [
       "'1463847412'"
      ]
     },
     "execution_count": 70,
     "metadata": {},
     "output_type": "execute_result"
    }
   ],
   "source": [
    "test = Solution()\n",
    "test = test.reverse('2147483641')\n",
    "test"
   ]
  },
  {
   "cell_type": "code",
   "execution_count": 2,
   "id": "11edb022",
   "metadata": {},
   "outputs": [],
   "source": [
    "    \n",
    "        #identify in negative \n",
    "        if x[0] == '-'  #if negative\n",
    "            len_x = len(x) - 1\n",
    "            x = x[1:]\n",
    "            \n",
    "        \n",
    "        \n",
    "        \n",
    "        \n",
    "        else:\n",
    "        "
   ]
  },
  {
   "cell_type": "code",
   "execution_count": null,
   "id": "8fe4f6ee",
   "metadata": {},
   "outputs": [],
   "source": [
    "c = i"
   ]
  }
 ],
 "metadata": {
  "kernelspec": {
   "display_name": "Python 3 (ipykernel)",
   "language": "python",
   "name": "python3"
  },
  "language_info": {
   "codemirror_mode": {
    "name": "ipython",
    "version": 3
   },
   "file_extension": ".py",
   "mimetype": "text/x-python",
   "name": "python",
   "nbconvert_exporter": "python",
   "pygments_lexer": "ipython3",
   "version": "3.9.7"
  }
 },
 "nbformat": 4,
 "nbformat_minor": 5
}
