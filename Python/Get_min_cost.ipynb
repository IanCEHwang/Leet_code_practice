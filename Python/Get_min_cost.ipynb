{
 "cells": [
  {
   "cell_type": "code",
   "execution_count": 1,
   "id": "d7c285e9",
   "metadata": {},
   "outputs": [],
   "source": [
    "def getMinimumCost(arr):\n",
    "    \n",
    "    arr = arr[0:]\n",
    "       \n",
    "    def cost_diff(a, b, c):\n",
    "        return abs(a - b) ** 2 + abs(b - c) ** 2 - abs(a - c) ** 2\n",
    "\n",
    "    # Calculate the initial cost\n",
    "    original_cost = sum((arr[i] - arr[i-1]) ** 2 for i in range(1, len(arr)))\n",
    "\n",
    "    # Calculate the minimum increase in cost after inserting an element between each pair\n",
    "    min_increase = min(cost_diff(arr[i-1], (arr[i-1] + arr[i]) // 2, arr[i]) for i in range(1, len(arr)))\n",
    "    \n",
    "    # Return the result\n",
    "    return original_cost + min_increase"
   ]
  },
  {
   "cell_type": "code",
   "execution_count": 2,
   "id": "a6bab793",
   "metadata": {},
   "outputs": [],
   "source": [
    "arr = [4,4,7,1,4]"
   ]
  },
  {
   "cell_type": "code",
   "execution_count": 3,
   "id": "05563a93",
   "metadata": {},
   "outputs": [
    {
     "data": {
      "text/plain": [
       "36"
      ]
     },
     "execution_count": 3,
     "metadata": {},
     "output_type": "execute_result"
    }
   ],
   "source": [
    "getMinimumCost(arr)"
   ]
  }
 ],
 "metadata": {
  "kernelspec": {
   "display_name": "Python 3 (ipykernel)",
   "language": "python",
   "name": "python3"
  },
  "language_info": {
   "codemirror_mode": {
    "name": "ipython",
    "version": 3
   },
   "file_extension": ".py",
   "mimetype": "text/x-python",
   "name": "python",
   "nbconvert_exporter": "python",
   "pygments_lexer": "ipython3",
   "version": "3.9.6"
  }
 },
 "nbformat": 4,
 "nbformat_minor": 5
}
